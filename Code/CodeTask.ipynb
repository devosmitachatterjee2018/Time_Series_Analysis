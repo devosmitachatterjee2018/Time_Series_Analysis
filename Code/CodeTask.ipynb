{
 "cells": [
  {
   "cell_type": "markdown",
   "metadata": {},
   "source": [
    "# Estimation of Energy Consumption "
   ]
  },
  {
   "cell_type": "markdown",
   "metadata": {},
   "source": [
    "### Table Of Contents\n",
    "* [Chapter 1: Code Task](#chapter1)\n",
    "    * [Section 1.1: Importing required libraries](#section_1_1)\n",
    "    * [Section 1.2: Loading input data csv file and importing it into dataframe](#section_1_2)\n",
    "    * [Section 1.3: Missing Data Imputation](#section_1_3)\n",
    "        * [Section 1.3.1: Finding missing values](#section_1_3_1)\n",
    "        * [Section 1.3.2: Initializing imputation using mean imputation method](#section_1_3_2)\n",
    "        * [Section 1.3.3: Imputating missing data using missForest algorithm](#section_1_3_3)\n",
    "    * [Section 1.4: Univariate Outlier Detection](#section_1_4)\n",
    "        * [Section 1.4.1: Visualizing outliers using box plot](#section_1_4_1)\n",
    "        * [Section 1.4.2: Detecting outiers using IQR outlier detection](#section_1_4_2) \n",
    "        * [Section 1.4.3: Dropping outliers](#section_1_4_3)   \n",
    "    * [Section 1.5: Energy Consumption Estimation](#section_1_5)\n",
    "        * [Section 1.5.1: Calculating water consumption](#section_1_5_1)   \n",
    "        * [Section 1.5.2: Calculating energy consumption](#section_1_5_2) \n",
    "    * [Section 1.6: Saving final dataframe in csv format in the same folder as input data](#section_1_6)\n",
    "* [Chapter 2: Discussion Task](#chapter2)\n",
    "\n",
    "    \n",
    "    "
   ]
  },
  {
   "cell_type": "markdown",
   "metadata": {},
   "source": [
    "### Chapter 1: Code Task"
   ]
  },
  {
   "cell_type": "markdown",
   "metadata": {},
   "source": [
    "#### Section 1.1: Importing required libraries"
   ]
  },
  {
   "cell_type": "code",
   "execution_count": 1,
   "metadata": {},
   "outputs": [
    {
     "name": "stderr",
     "output_type": "stream",
     "text": [
      "C:\\Users\\Acer\\Anaconda3\\lib\\site-packages\\sklearn\\ensemble\\weight_boosting.py:29: DeprecationWarning: numpy.core.umath_tests is an internal NumPy module and should not be imported. It will be removed in a future NumPy release.\n",
      "  from numpy.core.umath_tests import inner1d\n"
     ]
    }
   ],
   "source": [
    "# Importing the required libraries\n",
    "import pandas as pd\n",
    "import numpy as np\n",
    "from sklearn.preprocessing import Imputer\n",
    "from sklearn.ensemble import ExtraTreesRegressor\n",
    "import seaborn as sns #visualisation\n",
    "sns.set(color_codes=True)"
   ]
  },
  {
   "cell_type": "markdown",
   "metadata": {},
   "source": [
    "#### Section 1.2: Loading input data csv file and importing it into dataframe"
   ]
  },
  {
   "cell_type": "code",
   "execution_count": 2,
   "metadata": {},
   "outputs": [
    {
     "name": "stdout",
     "output_type": "stream",
     "text": [
      "              datetime  returntemp  supplytemp  water_state\n",
      "0  2017-01-01 00:00:00      37.341      84.267     5143.999\n",
      "1  2017-01-01 01:00:00      58.714      77.914     5144.165\n",
      "2  2017-01-01 02:00:00      39.888      82.807     5144.281\n",
      "3  2017-01-01 03:00:00      56.427      87.255          NaN\n",
      "4  2017-01-01 04:00:00      31.153      87.821     5145.665\n",
      "datetime        object\n",
      "returntemp     float64\n",
      "supplytemp     float64\n",
      "water_state    float64\n",
      "dtype: object\n"
     ]
    }
   ],
   "source": [
    "# loading the input data into dataframe\n",
    "inputFile = \"C:/Users/Acer/Desktop/Devosmita/input.csv\"\n",
    "df = pd.read_csv(inputFile,sep=\"\\t\")\n",
    "# Displaying the top 5 rows\n",
    "print(df.head())\n",
    "# Displaying the datatypes\n",
    "print(df.dtypes)"
   ]
  },
  {
   "cell_type": "markdown",
   "metadata": {},
   "source": [
    "#### Section 1.3: Missing Data Imputation"
   ]
  },
  {
   "cell_type": "markdown",
   "metadata": {},
   "source": [
    "##### Section 1.3.1: Finding missing values"
   ]
  },
  {
   "cell_type": "code",
   "execution_count": 3,
   "metadata": {},
   "outputs": [
    {
     "name": "stdout",
     "output_type": "stream",
     "text": [
      "datetime       0\n",
      "returntemp     4\n",
      "supplytemp     1\n",
      "water_state    6\n",
      "dtype: int64\n"
     ]
    }
   ],
   "source": [
    "# Finding the null values\n",
    "print(df.isnull().sum())"
   ]
  },
  {
   "cell_type": "markdown",
   "metadata": {},
   "source": [
    "##### Section 1.3.2: Initializing imputation using mean imputation method"
   ]
  },
  {
   "cell_type": "code",
   "execution_count": 4,
   "metadata": {},
   "outputs": [
    {
     "name": "stdout",
     "output_type": "stream",
     "text": [
      "     returntemp  supplytemp  water_state\n",
      "0     37.341000   84.267000  5143.999000\n",
      "1     58.714000   77.914000  5144.165000\n",
      "2     39.888000   82.807000  5144.281000\n",
      "3     56.427000   87.255000  5027.535877\n",
      "4     31.153000   87.821000  5145.665000\n",
      "5     56.389000   78.457000  5146.373000\n",
      "6     54.209000   73.945000  5146.479000\n",
      "7     49.498000   82.534000  5146.749000\n",
      "8     50.401000   60.987000  5147.465000\n",
      "9     57.336000   88.700000  5147.653000\n",
      "10    31.659000   62.852000  5148.196000\n",
      "11    30.697000   84.611000  5148.387000\n",
      "12    57.639000   82.439000  5148.998000\n",
      "13    49.571000   60.552000  5149.953000\n",
      "14    36.106000   64.785000  5027.535877\n",
      "15    35.795000   81.957000  5150.768000\n",
      "16    42.593000   67.087000  5151.328000\n",
      "17    45.301000   87.646000  5151.779000\n",
      "18    32.275000   78.911000  5152.520000\n",
      "19    43.730000   69.268000  5153.199000\n",
      "20    44.296000   76.807000  5153.404000\n",
      "21    35.308000   78.628000  5153.565000\n",
      "22    44.473348   74.720449  5154.292000\n",
      "23    30.834000   70.962000  5154.756000\n",
      "24    40.900000   77.119000  5154.955000\n",
      "25    41.557000   87.675000  5155.328000\n",
      "26    39.615000   79.069000  5155.571000\n",
      "27    45.677000   65.977000  5155.775000\n",
      "28    46.118000   88.024000  5156.293000\n",
      "29    48.741000   66.490000  5027.535877\n",
      "..          ...         ...          ...\n",
      "138   59.405000   63.308000  5212.682000\n",
      "139   57.619000   70.209000  5213.329000\n",
      "140   31.919000   73.888000  5213.434000\n",
      "141   56.780000   69.660000  5214.223000\n",
      "142   46.120000   63.192000  5214.476000\n",
      "143   40.361000   69.304000  5215.061000\n",
      "144   44.473348   85.039000  5215.930000\n",
      "145   38.669000   81.357000  5216.321000\n",
      "146   57.487000   70.497000  5216.614000\n",
      "147   33.223000   68.689000  5216.829000\n",
      "148   37.345000   74.847000  5217.749000\n",
      "149   57.437000   78.445000  5218.654000\n",
      "150   54.598000   60.412000  5219.463000\n",
      "151   35.668000   83.469000  5220.325000\n",
      "152   55.828000   67.657000  5220.591000\n",
      "153   39.747000   70.218000  5221.252000\n",
      "154   40.033000   64.796000  5222.041000\n",
      "155   39.604000   77.115000  5222.283000\n",
      "156   37.286000   66.324000  5223.009000\n",
      "157   58.910000   74.399000  5223.530000\n",
      "158   46.537000   69.465000  5223.913000\n",
      "159   30.229000   80.289000  5224.401000\n",
      "160   41.824000   87.859000  5224.676000\n",
      "161   42.926000   70.335000  5224.698000\n",
      "162   55.907000   79.622000  5225.222000\n",
      "163   48.877000   60.728000  5225.669000\n",
      "164   50.119000   62.520000  5225.875000\n",
      "165   40.799000   82.819000  5226.849000\n",
      "166   50.242000   73.867000  5227.081000\n",
      "167   41.441000   83.357000  5227.970000\n",
      "\n",
      "[168 rows x 3 columns]\n"
     ]
    }
   ],
   "source": [
    "# Initializing imputation using mean imputation method\n",
    "imputedData = Imputer(missing_values='NaN', strategy='mean', axis=0, verbose=0, copy=True)\n",
    "imputedData = pd.DataFrame(imputedData.fit_transform(df[['returntemp','supplytemp','water_state']]), columns = ['returntemp','supplytemp','water_state'])\n",
    "print(imputedData)"
   ]
  },
  {
   "cell_type": "markdown",
   "metadata": {},
   "source": [
    "##### Section 1.3.3 Imputing missing values using missForest algorithm"
   ]
  },
  {
   "cell_type": "code",
   "execution_count": 5,
   "metadata": {},
   "outputs": [
    {
     "name": "stdout",
     "output_type": "stream",
     "text": [
      "     returntemp  supplytemp  water_state\n",
      "0     37.341000   84.267000  5143.999000\n",
      "1     58.714000   77.914000  5144.165000\n",
      "2     39.888000   82.807000  5144.281000\n",
      "3     56.427000   87.255000  5027.535877\n",
      "4     31.153000   87.821000  5145.665000\n",
      "5     56.389000   78.457000  5146.373000\n",
      "6     54.209000   73.945000  5146.479000\n",
      "7     49.498000   82.534000  5146.749000\n",
      "8     50.401000   60.987000  5147.465000\n",
      "9     57.336000   88.700000  5147.653000\n",
      "10    31.659000   62.852000  5148.196000\n",
      "11    30.697000   84.611000  5148.387000\n",
      "12    57.639000   82.439000  5148.998000\n",
      "13    49.571000   60.552000  5149.953000\n",
      "14    36.106000   64.785000  5027.535877\n",
      "15    35.795000   81.957000  5150.768000\n",
      "16    42.593000   67.087000  5151.328000\n",
      "17    45.301000   87.646000  5151.779000\n",
      "18    32.275000   78.911000  5152.520000\n",
      "19    43.730000   69.268000  5153.199000\n",
      "20    44.296000   76.807000  5153.404000\n",
      "21    35.308000   78.628000  5153.565000\n",
      "22    44.473348   74.720449  5154.292000\n",
      "23    30.834000   70.962000  5154.756000\n",
      "24    40.900000   77.119000  5154.955000\n",
      "25    41.557000   87.675000  5155.328000\n",
      "26    39.615000   79.069000  5155.571000\n",
      "27    45.677000   65.977000  5155.775000\n",
      "28    46.118000   88.024000  5156.293000\n",
      "29    48.741000   66.490000  5027.535877\n",
      "..          ...         ...          ...\n",
      "138   59.405000   63.308000  5212.682000\n",
      "139   57.619000   70.209000  5213.329000\n",
      "140   31.919000   73.888000  5213.434000\n",
      "141   56.780000   69.660000  5214.223000\n",
      "142   46.120000   63.192000  5214.476000\n",
      "143   40.361000   69.304000  5215.061000\n",
      "144   44.473348   85.039000  5215.930000\n",
      "145   38.669000   81.357000  5216.321000\n",
      "146   57.487000   70.497000  5216.614000\n",
      "147   33.223000   68.689000  5216.829000\n",
      "148   37.345000   74.847000  5217.749000\n",
      "149   57.437000   78.445000  5218.654000\n",
      "150   54.598000   60.412000  5219.463000\n",
      "151   35.668000   83.469000  5220.325000\n",
      "152   55.828000   67.657000  5220.591000\n",
      "153   39.747000   70.218000  5221.252000\n",
      "154   40.033000   64.796000  5222.041000\n",
      "155   39.604000   77.115000  5222.283000\n",
      "156   37.286000   66.324000  5223.009000\n",
      "157   58.910000   74.399000  5223.530000\n",
      "158   46.537000   69.465000  5223.913000\n",
      "159   30.229000   80.289000  5224.401000\n",
      "160   41.824000   87.859000  5224.676000\n",
      "161   42.926000   70.335000  5224.698000\n",
      "162   55.907000   79.622000  5225.222000\n",
      "163   48.877000   60.728000  5225.669000\n",
      "164   50.119000   62.520000  5225.875000\n",
      "165   40.799000   82.819000  5226.849000\n",
      "166   50.242000   73.867000  5227.081000\n",
      "167   41.441000   83.357000  5227.970000\n",
      "\n",
      "[168 rows x 3 columns]\n"
     ]
    },
    {
     "name": "stderr",
     "output_type": "stream",
     "text": [
      "C:\\Users\\Acer\\Anaconda3\\lib\\site-packages\\ipykernel_launcher.py:9: DataConversionWarning: A column-vector y was passed when a 1d array was expected. Please change the shape of y to (n_samples,), for example using ravel().\n",
      "  if __name__ == '__main__':\n",
      "C:\\Users\\Acer\\Anaconda3\\lib\\site-packages\\ipykernel_launcher.py:9: DataConversionWarning: A column-vector y was passed when a 1d array was expected. Please change the shape of y to (n_samples,), for example using ravel().\n",
      "  if __name__ == '__main__':\n",
      "C:\\Users\\Acer\\Anaconda3\\lib\\site-packages\\ipykernel_launcher.py:9: DataConversionWarning: A column-vector y was passed when a 1d array was expected. Please change the shape of y to (n_samples,), for example using ravel().\n",
      "  if __name__ == '__main__':\n"
     ]
    }
   ],
   "source": [
    "# Imputing missing values using missForest algorithm (ExtraTreesRegressor is similiar to missforest algorithm in R)\n",
    "seed = 0\n",
    "# Number of trees in the forest is 10\n",
    "imputer = ExtraTreesRegressor(n_estimators=10, random_state=seed)\n",
    "\n",
    "for x in ['returntemp','supplytemp','water_state']:\n",
    "    X = imputedData.loc[:, imputedData.columns != x].values\n",
    "    y = imputedData[[x]].values\n",
    "    model = imputer.fit(X,y)\n",
    "    imputedData[x] = model.predict(X)\n",
    "\n",
    "print(imputedData)"
   ]
  },
  {
   "cell_type": "markdown",
   "metadata": {},
   "source": [
    "#### Section 1.4: Univariate Outlier Detection"
   ]
  },
  {
   "cell_type": "markdown",
   "metadata": {},
   "source": [
    "##### Section 1.4.1: Visualizing outliers using box plot"
   ]
  },
  {
   "cell_type": "code",
   "execution_count": 6,
   "metadata": {},
   "outputs": [
    {
     "data": {
      "text/plain": [
       "<matplotlib.axes._subplots.AxesSubplot at 0x204180caf98>"
      ]
     },
     "execution_count": 6,
     "metadata": {},
     "output_type": "execute_result"
    },
    {
     "data": {
      "image/png": "[encoded data removed]",
      "text/plain": [
       "<Figure size 432x288 with 1 Axes>"
      ]
     },
     "metadata": {
      "needs_background": "light"
     },
     "output_type": "display_data"
    }
   ],
   "source": [
    "# Plot boxplot of 'returntemp' feature\n",
    "sns.boxplot(x=imputedData['returntemp'])\n"
   ]
  },
  {
   "cell_type": "code",
   "execution_count": 7,
   "metadata": {},
   "outputs": [
    {
     "data": {
      "text/plain": [
       "<matplotlib.axes._subplots.AxesSubplot at 0x204193dc860>"
      ]
     },
     "execution_count": 7,
     "metadata": {},
     "output_type": "execute_result"
    },
    {
     "data": {
      "image/png": "[encoded data removed]",
      "text/plain": [
       "<Figure size 432x288 with 1 Axes>"
      ]
     },
     "metadata": {
      "needs_background": "light"
     },
     "output_type": "display_data"
    }
   ],
   "source": [
    "# Plot boxplot of 'supplytemp' feature\n",
    "sns.boxplot(x=imputedData['supplytemp'])"
   ]
  },
  {
   "cell_type": "code",
   "execution_count": 8,
   "metadata": {},
   "outputs": [
    {
     "data": {
      "text/plain": [
       "<matplotlib.axes._subplots.AxesSubplot at 0x20419444748>"
      ]
     },
     "execution_count": 8,
     "metadata": {},
     "output_type": "execute_result"
    },
    {
     "data": {
      "image/png": "[encoded data removed]",
      "text/plain": [
       "<Figure size 432x288 with 1 Axes>"
      ]
     },
     "metadata": {
      "needs_background": "light"
     },
     "output_type": "display_data"
    }
   ],
   "source": [
    "# Plot boxplot of 'water_state' feature\n",
    "sns.boxplot(x=imputedData['water_state'])"
   ]
  },
  {
   "cell_type": "markdown",
   "metadata": {},
   "source": [
    "##### Section 1.4.2: Detecting outiers using IQR outlier detection"
   ]
  },
  {
   "cell_type": "code",
   "execution_count": 9,
   "metadata": {},
   "outputs": [
    {
     "name": "stdout",
     "output_type": "stream",
     "text": [
      "(array([  3,  14,  29,  42,  44,  46,  58,  77,  82, 123, 131], dtype=int64),)\n"
     ]
    }
   ],
   "source": [
    "# IQR outlier detection\n",
    "data = imputedData['water_state']\n",
    "q1,q3 = np.percentile(data,[25,75])\n",
    "interQuartileRange = q3 - q1\n",
    "lowerBound = q1 - (interQuartileRange*1.5)\n",
    "upperBound = q3 + (interQuartileRange*1.5)\n",
    "outlierIndices = np.where((data > upperBound)|(data < lowerBound))\n",
    "print(outlierIndices)"
   ]
  },
  {
   "cell_type": "markdown",
   "metadata": {},
   "source": [
    "##### Section 1.4.3: Dropping outliers"
   ]
  },
  {
   "cell_type": "code",
   "execution_count": 10,
   "metadata": {},
   "outputs": [
    {
     "name": "stdout",
     "output_type": "stream",
     "text": [
      "     returntemp  supplytemp  water_state\n",
      "0     37.341000   84.267000     5143.999\n",
      "1     58.714000   77.914000     5144.165\n",
      "2     39.888000   82.807000     5144.281\n",
      "4     31.153000   87.821000     5145.665\n",
      "5     56.389000   78.457000     5146.373\n",
      "6     54.209000   73.945000     5146.479\n",
      "7     49.498000   82.534000     5146.749\n",
      "8     50.401000   60.987000     5147.465\n",
      "9     57.336000   88.700000     5147.653\n",
      "10    31.659000   62.852000     5148.196\n",
      "11    30.697000   84.611000     5148.387\n",
      "12    57.639000   82.439000     5148.998\n",
      "13    49.571000   60.552000     5149.953\n",
      "15    35.795000   81.957000     5150.768\n",
      "16    42.593000   67.087000     5151.328\n",
      "17    45.301000   87.646000     5151.779\n",
      "18    32.275000   78.911000     5152.520\n",
      "19    43.730000   69.268000     5153.199\n",
      "20    44.296000   76.807000     5153.404\n",
      "21    35.308000   78.628000     5153.565\n",
      "22    44.473348   74.720449     5154.292\n",
      "23    30.834000   70.962000     5154.756\n",
      "24    40.900000   77.119000     5154.955\n",
      "25    41.557000   87.675000     5155.328\n",
      "26    39.615000   79.069000     5155.571\n",
      "27    45.677000   65.977000     5155.775\n",
      "28    46.118000   88.024000     5156.293\n",
      "30    52.086000   65.766000     5157.471\n",
      "31    51.001000   85.285000     5158.304\n",
      "32    41.716000   63.118000     5159.104\n",
      "..          ...         ...          ...\n",
      "138   59.405000   63.308000     5212.682\n",
      "139   57.619000   70.209000     5213.329\n",
      "140   31.919000   73.888000     5213.434\n",
      "141   56.780000   69.660000     5214.223\n",
      "142   46.120000   63.192000     5214.476\n",
      "143   40.361000   69.304000     5215.061\n",
      "144   44.473348   85.039000     5215.930\n",
      "145   38.669000   81.357000     5216.321\n",
      "146   57.487000   70.497000     5216.614\n",
      "147   33.223000   68.689000     5216.829\n",
      "148   37.345000   74.847000     5217.749\n",
      "149   57.437000   78.445000     5218.654\n",
      "150   54.598000   60.412000     5219.463\n",
      "151   35.668000   83.469000     5220.325\n",
      "152   55.828000   67.657000     5220.591\n",
      "153   39.747000   70.218000     5221.252\n",
      "154   40.033000   64.796000     5222.041\n",
      "155   39.604000   77.115000     5222.283\n",
      "156   37.286000   66.324000     5223.009\n",
      "157   58.910000   74.399000     5223.530\n",
      "158   46.537000   69.465000     5223.913\n",
      "159   30.229000   80.289000     5224.401\n",
      "160   41.824000   87.859000     5224.676\n",
      "161   42.926000   70.335000     5224.698\n",
      "162   55.907000   79.622000     5225.222\n",
      "163   48.877000   60.728000     5225.669\n",
      "164   50.119000   62.520000     5225.875\n",
      "165   40.799000   82.819000     5226.849\n",
      "166   50.242000   73.867000     5227.081\n",
      "167   41.441000   83.357000     5227.970\n",
      "\n",
      "[157 rows x 3 columns]\n",
      "     returntemp  supplytemp  water_state\n",
      "0     37.341000   84.267000     5143.999\n",
      "1     58.714000   77.914000     5144.165\n",
      "2     39.888000   82.807000     5144.281\n",
      "3     31.153000   87.821000     5145.665\n",
      "4     56.389000   78.457000     5146.373\n",
      "5     54.209000   73.945000     5146.479\n",
      "6     49.498000   82.534000     5146.749\n",
      "7     50.401000   60.987000     5147.465\n",
      "8     57.336000   88.700000     5147.653\n",
      "9     31.659000   62.852000     5148.196\n",
      "10    30.697000   84.611000     5148.387\n",
      "11    57.639000   82.439000     5148.998\n",
      "12    49.571000   60.552000     5149.953\n",
      "13    35.795000   81.957000     5150.768\n",
      "14    42.593000   67.087000     5151.328\n",
      "15    45.301000   87.646000     5151.779\n",
      "16    32.275000   78.911000     5152.520\n",
      "17    43.730000   69.268000     5153.199\n",
      "18    44.296000   76.807000     5153.404\n",
      "19    35.308000   78.628000     5153.565\n",
      "20    44.473348   74.720449     5154.292\n",
      "21    30.834000   70.962000     5154.756\n",
      "22    40.900000   77.119000     5154.955\n",
      "23    41.557000   87.675000     5155.328\n",
      "24    39.615000   79.069000     5155.571\n",
      "25    45.677000   65.977000     5155.775\n",
      "26    46.118000   88.024000     5156.293\n",
      "27    52.086000   65.766000     5157.471\n",
      "28    51.001000   85.285000     5158.304\n",
      "29    41.716000   63.118000     5159.104\n",
      "..          ...         ...          ...\n",
      "127   59.405000   63.308000     5212.682\n",
      "128   57.619000   70.209000     5213.329\n",
      "129   31.919000   73.888000     5213.434\n",
      "130   56.780000   69.660000     5214.223\n",
      "131   46.120000   63.192000     5214.476\n",
      "132   40.361000   69.304000     5215.061\n",
      "133   44.473348   85.039000     5215.930\n",
      "134   38.669000   81.357000     5216.321\n",
      "135   57.487000   70.497000     5216.614\n",
      "136   33.223000   68.689000     5216.829\n",
      "137   37.345000   74.847000     5217.749\n",
      "138   57.437000   78.445000     5218.654\n",
      "139   54.598000   60.412000     5219.463\n",
      "140   35.668000   83.469000     5220.325\n",
      "141   55.828000   67.657000     5220.591\n",
      "142   39.747000   70.218000     5221.252\n",
      "143   40.033000   64.796000     5222.041\n",
      "144   39.604000   77.115000     5222.283\n",
      "145   37.286000   66.324000     5223.009\n",
      "146   58.910000   74.399000     5223.530\n",
      "147   46.537000   69.465000     5223.913\n",
      "148   30.229000   80.289000     5224.401\n",
      "149   41.824000   87.859000     5224.676\n",
      "150   42.926000   70.335000     5224.698\n",
      "151   55.907000   79.622000     5225.222\n",
      "152   48.877000   60.728000     5225.669\n",
      "153   50.119000   62.520000     5225.875\n",
      "154   40.799000   82.819000     5226.849\n",
      "155   50.242000   73.867000     5227.081\n",
      "156   41.441000   83.357000     5227.970\n",
      "\n",
      "[157 rows x 3 columns]\n"
     ]
    }
   ],
   "source": [
    "# Dropping outliers from imputed data\n",
    "imputedData2 = imputedData.drop([  3,  14,  29,  42,  44,  46,  58,  77,  82, 123, 131])\n",
    "print(imputedData2)\n",
    "# Reset dataset\n",
    "imputedData2_reset = imputedData2.reset_index(drop=True)\n",
    "print(imputedData2_reset)"
   ]
  },
  {
   "cell_type": "code",
   "execution_count": 12,
   "metadata": {},
   "outputs": [
    {
     "name": "stdout",
     "output_type": "stream",
     "text": [
      "                datetime\n",
      "0    2017-01-01 00:00:00\n",
      "1    2017-01-01 01:00:00\n",
      "2    2017-01-01 02:00:00\n",
      "4    2017-01-01 04:00:00\n",
      "5    2017-01-01 05:00:00\n",
      "6    2017-01-01 06:00:00\n",
      "7    2017-01-01 07:00:00\n",
      "8    2017-01-01 08:00:00\n",
      "9    2017-01-01 09:00:00\n",
      "10   2017-01-01 10:00:00\n",
      "11   2017-01-01 11:00:00\n",
      "12   2017-01-01 12:00:00\n",
      "13   2017-01-01 13:00:00\n",
      "15   2017-01-01 15:00:00\n",
      "16   2017-01-01 16:00:00\n",
      "17   2017-01-01 17:00:00\n",
      "18   2017-01-01 18:00:00\n",
      "19   2017-01-01 19:00:00\n",
      "20   2017-01-01 20:00:00\n",
      "21   2017-01-01 21:00:00\n",
      "22   2017-01-01 22:00:00\n",
      "23   2017-01-01 23:00:00\n",
      "24   2017-01-02 00:00:00\n",
      "25   2017-01-02 01:00:00\n",
      "26   2017-01-02 02:00:00\n",
      "27   2017-01-02 03:00:00\n",
      "28   2017-01-02 04:00:00\n",
      "30   2017-01-02 06:00:00\n",
      "31   2017-01-02 07:00:00\n",
      "32   2017-01-02 08:00:00\n",
      "..                   ...\n",
      "138  2017-01-06 18:00:00\n",
      "139  2017-01-06 19:00:00\n",
      "140  2017-01-06 20:00:00\n",
      "141  2017-01-06 21:00:00\n",
      "142  2017-01-06 22:00:00\n",
      "143  2017-01-06 23:00:00\n",
      "144  2017-01-07 00:00:00\n",
      "145  2017-01-07 01:00:00\n",
      "146  2017-01-07 02:00:00\n",
      "147  2017-01-07 03:00:00\n",
      "148  2017-01-07 04:00:00\n",
      "149  2017-01-07 05:00:00\n",
      "150  2017-01-07 06:00:00\n",
      "151  2017-01-07 07:00:00\n",
      "152  2017-01-07 08:00:00\n",
      "153  2017-01-07 09:00:00\n",
      "154  2017-01-07 10:00:00\n",
      "155  2017-01-07 11:00:00\n",
      "156  2017-01-07 12:00:00\n",
      "157  2017-01-07 13:00:00\n",
      "158  2017-01-07 14:00:00\n",
      "159  2017-01-07 15:00:00\n",
      "160  2017-01-07 16:00:00\n",
      "161  2017-01-07 17:00:00\n",
      "162  2017-01-07 18:00:00\n",
      "163  2017-01-07 19:00:00\n",
      "164  2017-01-07 20:00:00\n",
      "165  2017-01-07 21:00:00\n",
      "166  2017-01-07 22:00:00\n",
      "167  2017-01-07 23:00:00\n",
      "\n",
      "[157 rows x 1 columns]\n",
      "                datetime\n",
      "0    2017-01-01 00:00:00\n",
      "1    2017-01-01 01:00:00\n",
      "2    2017-01-01 02:00:00\n",
      "3    2017-01-01 04:00:00\n",
      "4    2017-01-01 05:00:00\n",
      "5    2017-01-01 06:00:00\n",
      "6    2017-01-01 07:00:00\n",
      "7    2017-01-01 08:00:00\n",
      "8    2017-01-01 09:00:00\n",
      "9    2017-01-01 10:00:00\n",
      "10   2017-01-01 11:00:00\n",
      "11   2017-01-01 12:00:00\n",
      "12   2017-01-01 13:00:00\n",
      "13   2017-01-01 15:00:00\n",
      "14   2017-01-01 16:00:00\n",
      "15   2017-01-01 17:00:00\n",
      "16   2017-01-01 18:00:00\n",
      "17   2017-01-01 19:00:00\n",
      "18   2017-01-01 20:00:00\n",
      "19   2017-01-01 21:00:00\n",
      "20   2017-01-01 22:00:00\n",
      "21   2017-01-01 23:00:00\n",
      "22   2017-01-02 00:00:00\n",
      "23   2017-01-02 01:00:00\n",
      "24   2017-01-02 02:00:00\n",
      "25   2017-01-02 03:00:00\n",
      "26   2017-01-02 04:00:00\n",
      "27   2017-01-02 06:00:00\n",
      "28   2017-01-02 07:00:00\n",
      "29   2017-01-02 08:00:00\n",
      "..                   ...\n",
      "127  2017-01-06 18:00:00\n",
      "128  2017-01-06 19:00:00\n",
      "129  2017-01-06 20:00:00\n",
      "130  2017-01-06 21:00:00\n",
      "131  2017-01-06 22:00:00\n",
      "132  2017-01-06 23:00:00\n",
      "133  2017-01-07 00:00:00\n",
      "134  2017-01-07 01:00:00\n",
      "135  2017-01-07 02:00:00\n",
      "136  2017-01-07 03:00:00\n",
      "137  2017-01-07 04:00:00\n",
      "138  2017-01-07 05:00:00\n",
      "139  2017-01-07 06:00:00\n",
      "140  2017-01-07 07:00:00\n",
      "141  2017-01-07 08:00:00\n",
      "142  2017-01-07 09:00:00\n",
      "143  2017-01-07 10:00:00\n",
      "144  2017-01-07 11:00:00\n",
      "145  2017-01-07 12:00:00\n",
      "146  2017-01-07 13:00:00\n",
      "147  2017-01-07 14:00:00\n",
      "148  2017-01-07 15:00:00\n",
      "149  2017-01-07 16:00:00\n",
      "150  2017-01-07 17:00:00\n",
      "151  2017-01-07 18:00:00\n",
      "152  2017-01-07 19:00:00\n",
      "153  2017-01-07 20:00:00\n",
      "154  2017-01-07 21:00:00\n",
      "155  2017-01-07 22:00:00\n",
      "156  2017-01-07 23:00:00\n",
      "\n",
      "[157 rows x 1 columns]\n"
     ]
    }
   ],
   "source": [
    "# Dropping outliers from datetime\n",
    "dateTime = df[['datetime']].drop([  3,  14,  29,  42,  44,  46,  58,  77,  82, 123, 131])\n",
    "print(dateTime)\n",
    "# Reset datetime\n",
    "dateTime_reset = dateTime.reset_index(drop=True)\n",
    "print(dateTime_reset)"
   ]
  },
  {
   "cell_type": "code",
   "execution_count": 13,
   "metadata": {},
   "outputs": [
    {
     "name": "stdout",
     "output_type": "stream",
     "text": [
      "                datetime  returntemp  supplytemp  water_state\n",
      "0    2017-01-01 00:00:00   37.341000   84.267000     5143.999\n",
      "1    2017-01-01 01:00:00   58.714000   77.914000     5144.165\n",
      "2    2017-01-01 02:00:00   39.888000   82.807000     5144.281\n",
      "3    2017-01-01 04:00:00   31.153000   87.821000     5145.665\n",
      "4    2017-01-01 05:00:00   56.389000   78.457000     5146.373\n",
      "5    2017-01-01 06:00:00   54.209000   73.945000     5146.479\n",
      "6    2017-01-01 07:00:00   49.498000   82.534000     5146.749\n",
      "7    2017-01-01 08:00:00   50.401000   60.987000     5147.465\n",
      "8    2017-01-01 09:00:00   57.336000   88.700000     5147.653\n",
      "9    2017-01-01 10:00:00   31.659000   62.852000     5148.196\n",
      "10   2017-01-01 11:00:00   30.697000   84.611000     5148.387\n",
      "11   2017-01-01 12:00:00   57.639000   82.439000     5148.998\n",
      "12   2017-01-01 13:00:00   49.571000   60.552000     5149.953\n",
      "13   2017-01-01 15:00:00   35.795000   81.957000     5150.768\n",
      "14   2017-01-01 16:00:00   42.593000   67.087000     5151.328\n",
      "15   2017-01-01 17:00:00   45.301000   87.646000     5151.779\n",
      "16   2017-01-01 18:00:00   32.275000   78.911000     5152.520\n",
      "17   2017-01-01 19:00:00   43.730000   69.268000     5153.199\n",
      "18   2017-01-01 20:00:00   44.296000   76.807000     5153.404\n",
      "19   2017-01-01 21:00:00   35.308000   78.628000     5153.565\n",
      "20   2017-01-01 22:00:00   44.473348   74.720449     5154.292\n",
      "21   2017-01-01 23:00:00   30.834000   70.962000     5154.756\n",
      "22   2017-01-02 00:00:00   40.900000   77.119000     5154.955\n",
      "23   2017-01-02 01:00:00   41.557000   87.675000     5155.328\n",
      "24   2017-01-02 02:00:00   39.615000   79.069000     5155.571\n",
      "25   2017-01-02 03:00:00   45.677000   65.977000     5155.775\n",
      "26   2017-01-02 04:00:00   46.118000   88.024000     5156.293\n",
      "27   2017-01-02 06:00:00   52.086000   65.766000     5157.471\n",
      "28   2017-01-02 07:00:00   51.001000   85.285000     5158.304\n",
      "29   2017-01-02 08:00:00   41.716000   63.118000     5159.104\n",
      "..                   ...         ...         ...          ...\n",
      "127  2017-01-06 18:00:00   59.405000   63.308000     5212.682\n",
      "128  2017-01-06 19:00:00   57.619000   70.209000     5213.329\n",
      "129  2017-01-06 20:00:00   31.919000   73.888000     5213.434\n",
      "130  2017-01-06 21:00:00   56.780000   69.660000     5214.223\n",
      "131  2017-01-06 22:00:00   46.120000   63.192000     5214.476\n",
      "132  2017-01-06 23:00:00   40.361000   69.304000     5215.061\n",
      "133  2017-01-07 00:00:00   44.473348   85.039000     5215.930\n",
      "134  2017-01-07 01:00:00   38.669000   81.357000     5216.321\n",
      "135  2017-01-07 02:00:00   57.487000   70.497000     5216.614\n",
      "136  2017-01-07 03:00:00   33.223000   68.689000     5216.829\n",
      "137  2017-01-07 04:00:00   37.345000   74.847000     5217.749\n",
      "138  2017-01-07 05:00:00   57.437000   78.445000     5218.654\n",
      "139  2017-01-07 06:00:00   54.598000   60.412000     5219.463\n",
      "140  2017-01-07 07:00:00   35.668000   83.469000     5220.325\n",
      "141  2017-01-07 08:00:00   55.828000   67.657000     5220.591\n",
      "142  2017-01-07 09:00:00   39.747000   70.218000     5221.252\n",
      "143  2017-01-07 10:00:00   40.033000   64.796000     5222.041\n",
      "144  2017-01-07 11:00:00   39.604000   77.115000     5222.283\n",
      "145  2017-01-07 12:00:00   37.286000   66.324000     5223.009\n",
      "146  2017-01-07 13:00:00   58.910000   74.399000     5223.530\n",
      "147  2017-01-07 14:00:00   46.537000   69.465000     5223.913\n",
      "148  2017-01-07 15:00:00   30.229000   80.289000     5224.401\n",
      "149  2017-01-07 16:00:00   41.824000   87.859000     5224.676\n",
      "150  2017-01-07 17:00:00   42.926000   70.335000     5224.698\n",
      "151  2017-01-07 18:00:00   55.907000   79.622000     5225.222\n",
      "152  2017-01-07 19:00:00   48.877000   60.728000     5225.669\n",
      "153  2017-01-07 20:00:00   50.119000   62.520000     5225.875\n",
      "154  2017-01-07 21:00:00   40.799000   82.819000     5226.849\n",
      "155  2017-01-07 22:00:00   50.242000   73.867000     5227.081\n",
      "156  2017-01-07 23:00:00   41.441000   83.357000     5227.970\n",
      "\n",
      "[157 rows x 4 columns]\n"
     ]
    }
   ],
   "source": [
    "# Concatenate datetime and imputed data\n",
    "imputedData2_reset = pd.concat([dateTime_reset, imputedData2_reset], axis=1)\n",
    "print(imputedData2_reset)"
   ]
  },
  {
   "cell_type": "markdown",
   "metadata": {},
   "source": [
    "#### Section 1.5: Energy Consumption Estimation\n"
   ]
  },
  {
   "cell_type": "markdown",
   "metadata": {},
   "source": [
    "##### Section 1.5.1: Calculating water consumption\n",
    "\n"
   ]
  },
  {
   "cell_type": "code",
   "execution_count": 14,
   "metadata": {},
   "outputs": [
    {
     "name": "stdout",
     "output_type": "stream",
     "text": [
      "                datetime  returntemp  supplytemp  water_state  \\\n",
      "0    2017-01-01 00:00:00   37.341000   84.267000     5143.999   \n",
      "1    2017-01-01 01:00:00   58.714000   77.914000     5144.165   \n",
      "2    2017-01-01 02:00:00   39.888000   82.807000     5144.281   \n",
      "3    2017-01-01 04:00:00   31.153000   87.821000     5145.665   \n",
      "4    2017-01-01 05:00:00   56.389000   78.457000     5146.373   \n",
      "5    2017-01-01 06:00:00   54.209000   73.945000     5146.479   \n",
      "6    2017-01-01 07:00:00   49.498000   82.534000     5146.749   \n",
      "7    2017-01-01 08:00:00   50.401000   60.987000     5147.465   \n",
      "8    2017-01-01 09:00:00   57.336000   88.700000     5147.653   \n",
      "9    2017-01-01 10:00:00   31.659000   62.852000     5148.196   \n",
      "10   2017-01-01 11:00:00   30.697000   84.611000     5148.387   \n",
      "11   2017-01-01 12:00:00   57.639000   82.439000     5148.998   \n",
      "12   2017-01-01 13:00:00   49.571000   60.552000     5149.953   \n",
      "13   2017-01-01 15:00:00   35.795000   81.957000     5150.768   \n",
      "14   2017-01-01 16:00:00   42.593000   67.087000     5151.328   \n",
      "15   2017-01-01 17:00:00   45.301000   87.646000     5151.779   \n",
      "16   2017-01-01 18:00:00   32.275000   78.911000     5152.520   \n",
      "17   2017-01-01 19:00:00   43.730000   69.268000     5153.199   \n",
      "18   2017-01-01 20:00:00   44.296000   76.807000     5153.404   \n",
      "19   2017-01-01 21:00:00   35.308000   78.628000     5153.565   \n",
      "20   2017-01-01 22:00:00   44.473348   74.720449     5154.292   \n",
      "21   2017-01-01 23:00:00   30.834000   70.962000     5154.756   \n",
      "22   2017-01-02 00:00:00   40.900000   77.119000     5154.955   \n",
      "23   2017-01-02 01:00:00   41.557000   87.675000     5155.328   \n",
      "24   2017-01-02 02:00:00   39.615000   79.069000     5155.571   \n",
      "25   2017-01-02 03:00:00   45.677000   65.977000     5155.775   \n",
      "26   2017-01-02 04:00:00   46.118000   88.024000     5156.293   \n",
      "27   2017-01-02 06:00:00   52.086000   65.766000     5157.471   \n",
      "28   2017-01-02 07:00:00   51.001000   85.285000     5158.304   \n",
      "29   2017-01-02 08:00:00   41.716000   63.118000     5159.104   \n",
      "..                   ...         ...         ...          ...   \n",
      "127  2017-01-06 18:00:00   59.405000   63.308000     5212.682   \n",
      "128  2017-01-06 19:00:00   57.619000   70.209000     5213.329   \n",
      "129  2017-01-06 20:00:00   31.919000   73.888000     5213.434   \n",
      "130  2017-01-06 21:00:00   56.780000   69.660000     5214.223   \n",
      "131  2017-01-06 22:00:00   46.120000   63.192000     5214.476   \n",
      "132  2017-01-06 23:00:00   40.361000   69.304000     5215.061   \n",
      "133  2017-01-07 00:00:00   44.473348   85.039000     5215.930   \n",
      "134  2017-01-07 01:00:00   38.669000   81.357000     5216.321   \n",
      "135  2017-01-07 02:00:00   57.487000   70.497000     5216.614   \n",
      "136  2017-01-07 03:00:00   33.223000   68.689000     5216.829   \n",
      "137  2017-01-07 04:00:00   37.345000   74.847000     5217.749   \n",
      "138  2017-01-07 05:00:00   57.437000   78.445000     5218.654   \n",
      "139  2017-01-07 06:00:00   54.598000   60.412000     5219.463   \n",
      "140  2017-01-07 07:00:00   35.668000   83.469000     5220.325   \n",
      "141  2017-01-07 08:00:00   55.828000   67.657000     5220.591   \n",
      "142  2017-01-07 09:00:00   39.747000   70.218000     5221.252   \n",
      "143  2017-01-07 10:00:00   40.033000   64.796000     5222.041   \n",
      "144  2017-01-07 11:00:00   39.604000   77.115000     5222.283   \n",
      "145  2017-01-07 12:00:00   37.286000   66.324000     5223.009   \n",
      "146  2017-01-07 13:00:00   58.910000   74.399000     5223.530   \n",
      "147  2017-01-07 14:00:00   46.537000   69.465000     5223.913   \n",
      "148  2017-01-07 15:00:00   30.229000   80.289000     5224.401   \n",
      "149  2017-01-07 16:00:00   41.824000   87.859000     5224.676   \n",
      "150  2017-01-07 17:00:00   42.926000   70.335000     5224.698   \n",
      "151  2017-01-07 18:00:00   55.907000   79.622000     5225.222   \n",
      "152  2017-01-07 19:00:00   48.877000   60.728000     5225.669   \n",
      "153  2017-01-07 20:00:00   50.119000   62.520000     5225.875   \n",
      "154  2017-01-07 21:00:00   40.799000   82.819000     5226.849   \n",
      "155  2017-01-07 22:00:00   50.242000   73.867000     5227.081   \n",
      "156  2017-01-07 23:00:00   41.441000   83.357000     5227.970   \n",
      "\n",
      "     water_consumption  \n",
      "0                0.166  \n",
      "1                0.116  \n",
      "2                1.384  \n",
      "3                0.708  \n",
      "4                0.106  \n",
      "5                0.270  \n",
      "6                0.716  \n",
      "7                0.188  \n",
      "8                0.543  \n",
      "9                0.191  \n",
      "10               0.611  \n",
      "11               0.955  \n",
      "12               0.815  \n",
      "13               0.560  \n",
      "14               0.451  \n",
      "15               0.741  \n",
      "16               0.679  \n",
      "17               0.205  \n",
      "18               0.161  \n",
      "19               0.727  \n",
      "20               0.464  \n",
      "21               0.199  \n",
      "22               0.373  \n",
      "23               0.243  \n",
      "24               0.204  \n",
      "25               0.518  \n",
      "26               1.178  \n",
      "27               0.833  \n",
      "28               0.800  \n",
      "29               0.989  \n",
      "..                 ...  \n",
      "127              0.647  \n",
      "128              0.105  \n",
      "129              0.789  \n",
      "130              0.253  \n",
      "131              0.585  \n",
      "132              0.869  \n",
      "133              0.391  \n",
      "134              0.293  \n",
      "135              0.215  \n",
      "136              0.920  \n",
      "137              0.905  \n",
      "138              0.809  \n",
      "139              0.862  \n",
      "140              0.266  \n",
      "141              0.661  \n",
      "142              0.789  \n",
      "143              0.242  \n",
      "144              0.726  \n",
      "145              0.521  \n",
      "146              0.383  \n",
      "147              0.488  \n",
      "148              0.275  \n",
      "149              0.022  \n",
      "150              0.524  \n",
      "151              0.447  \n",
      "152              0.206  \n",
      "153              0.974  \n",
      "154              0.232  \n",
      "155              0.889  \n",
      "156              0.000  \n",
      "\n",
      "[157 rows x 5 columns]\n"
     ]
    }
   ],
   "source": [
    "# Calculating water consumption\n",
    "rowSize = imputedData2_reset.shape[0]\n",
    "waterConsumption = [0] * rowSize\n",
    "water_state = imputedData2_reset['water_state'].values\n",
    "for i in range(0, rowSize-1):\n",
    "    waterConsumption[i] = water_state[i+1] - water_state[i]\n",
    "imputedData2_reset['water_consumption'] = pd.DataFrame(waterConsumption)\n",
    "print(imputedData2_reset)"
   ]
  },
  {
   "cell_type": "code",
   "execution_count": 15,
   "metadata": {},
   "outputs": [
    {
     "name": "stdout",
     "output_type": "stream",
     "text": [
      "(array([], dtype=int64),)\n"
     ]
    }
   ],
   "source": [
    "# Checking that there is no such thing as negative consumption\n",
    "negativeWaterConsumptionIndices = np.where(imputedData2_reset['water_consumption']<0)\n",
    "print(negativeWaterConsumptionIndices)"
   ]
  },
  {
   "cell_type": "markdown",
   "metadata": {},
   "source": [
    "##### Section 1.5.2: Calculating energy consumption\n",
    "\n"
   ]
  },
  {
   "cell_type": "code",
   "execution_count": 16,
   "metadata": {},
   "outputs": [
    {
     "name": "stdout",
     "output_type": "stream",
     "text": [
      "                datetime  returntemp  supplytemp  water_state  \\\n",
      "0    2017-01-01 00:00:00   37.341000   84.267000     5143.999   \n",
      "1    2017-01-01 01:00:00   58.714000   77.914000     5144.165   \n",
      "2    2017-01-01 02:00:00   39.888000   82.807000     5144.281   \n",
      "3    2017-01-01 04:00:00   31.153000   87.821000     5145.665   \n",
      "4    2017-01-01 05:00:00   56.389000   78.457000     5146.373   \n",
      "5    2017-01-01 06:00:00   54.209000   73.945000     5146.479   \n",
      "6    2017-01-01 07:00:00   49.498000   82.534000     5146.749   \n",
      "7    2017-01-01 08:00:00   50.401000   60.987000     5147.465   \n",
      "8    2017-01-01 09:00:00   57.336000   88.700000     5147.653   \n",
      "9    2017-01-01 10:00:00   31.659000   62.852000     5148.196   \n",
      "10   2017-01-01 11:00:00   30.697000   84.611000     5148.387   \n",
      "11   2017-01-01 12:00:00   57.639000   82.439000     5148.998   \n",
      "12   2017-01-01 13:00:00   49.571000   60.552000     5149.953   \n",
      "13   2017-01-01 15:00:00   35.795000   81.957000     5150.768   \n",
      "14   2017-01-01 16:00:00   42.593000   67.087000     5151.328   \n",
      "15   2017-01-01 17:00:00   45.301000   87.646000     5151.779   \n",
      "16   2017-01-01 18:00:00   32.275000   78.911000     5152.520   \n",
      "17   2017-01-01 19:00:00   43.730000   69.268000     5153.199   \n",
      "18   2017-01-01 20:00:00   44.296000   76.807000     5153.404   \n",
      "19   2017-01-01 21:00:00   35.308000   78.628000     5153.565   \n",
      "20   2017-01-01 22:00:00   44.473348   74.720449     5154.292   \n",
      "21   2017-01-01 23:00:00   30.834000   70.962000     5154.756   \n",
      "22   2017-01-02 00:00:00   40.900000   77.119000     5154.955   \n",
      "23   2017-01-02 01:00:00   41.557000   87.675000     5155.328   \n",
      "24   2017-01-02 02:00:00   39.615000   79.069000     5155.571   \n",
      "25   2017-01-02 03:00:00   45.677000   65.977000     5155.775   \n",
      "26   2017-01-02 04:00:00   46.118000   88.024000     5156.293   \n",
      "27   2017-01-02 06:00:00   52.086000   65.766000     5157.471   \n",
      "28   2017-01-02 07:00:00   51.001000   85.285000     5158.304   \n",
      "29   2017-01-02 08:00:00   41.716000   63.118000     5159.104   \n",
      "..                   ...         ...         ...          ...   \n",
      "127  2017-01-06 18:00:00   59.405000   63.308000     5212.682   \n",
      "128  2017-01-06 19:00:00   57.619000   70.209000     5213.329   \n",
      "129  2017-01-06 20:00:00   31.919000   73.888000     5213.434   \n",
      "130  2017-01-06 21:00:00   56.780000   69.660000     5214.223   \n",
      "131  2017-01-06 22:00:00   46.120000   63.192000     5214.476   \n",
      "132  2017-01-06 23:00:00   40.361000   69.304000     5215.061   \n",
      "133  2017-01-07 00:00:00   44.473348   85.039000     5215.930   \n",
      "134  2017-01-07 01:00:00   38.669000   81.357000     5216.321   \n",
      "135  2017-01-07 02:00:00   57.487000   70.497000     5216.614   \n",
      "136  2017-01-07 03:00:00   33.223000   68.689000     5216.829   \n",
      "137  2017-01-07 04:00:00   37.345000   74.847000     5217.749   \n",
      "138  2017-01-07 05:00:00   57.437000   78.445000     5218.654   \n",
      "139  2017-01-07 06:00:00   54.598000   60.412000     5219.463   \n",
      "140  2017-01-07 07:00:00   35.668000   83.469000     5220.325   \n",
      "141  2017-01-07 08:00:00   55.828000   67.657000     5220.591   \n",
      "142  2017-01-07 09:00:00   39.747000   70.218000     5221.252   \n",
      "143  2017-01-07 10:00:00   40.033000   64.796000     5222.041   \n",
      "144  2017-01-07 11:00:00   39.604000   77.115000     5222.283   \n",
      "145  2017-01-07 12:00:00   37.286000   66.324000     5223.009   \n",
      "146  2017-01-07 13:00:00   58.910000   74.399000     5223.530   \n",
      "147  2017-01-07 14:00:00   46.537000   69.465000     5223.913   \n",
      "148  2017-01-07 15:00:00   30.229000   80.289000     5224.401   \n",
      "149  2017-01-07 16:00:00   41.824000   87.859000     5224.676   \n",
      "150  2017-01-07 17:00:00   42.926000   70.335000     5224.698   \n",
      "151  2017-01-07 18:00:00   55.907000   79.622000     5225.222   \n",
      "152  2017-01-07 19:00:00   48.877000   60.728000     5225.669   \n",
      "153  2017-01-07 20:00:00   50.119000   62.520000     5225.875   \n",
      "154  2017-01-07 21:00:00   40.799000   82.819000     5226.849   \n",
      "155  2017-01-07 22:00:00   50.242000   73.867000     5227.081   \n",
      "156  2017-01-07 23:00:00   41.441000   83.357000     5227.970   \n",
      "\n",
      "     water_consumption  energy_consumption  \n",
      "0                0.166            9.036071  \n",
      "1                0.116            2.583552  \n",
      "2                1.384           68.903879  \n",
      "3                0.708           46.540295  \n",
      "4                0.106            2.713481  \n",
      "5                0.270            6.181315  \n",
      "6                0.716           27.438380  \n",
      "7                0.188            2.308595  \n",
      "8                0.543           19.755556  \n",
      "9                0.191            6.911121  \n",
      "10               0.611           38.212087  \n",
      "11               0.955           27.473440  \n",
      "12               0.815           10.381437  \n",
      "13               0.560           29.986835  \n",
      "14               0.451           12.814281  \n",
      "15               0.741           36.398068  \n",
      "16               0.679           36.732379  \n",
      "17               0.205            6.072936  \n",
      "18               0.161            6.071754  \n",
      "19               0.727           36.532622  \n",
      "20               0.464           16.280200  \n",
      "21               0.199            9.263148  \n",
      "22               0.373           15.671237  \n",
      "23               0.243           12.999742  \n",
      "24               0.204            9.336395  \n",
      "25               0.518           12.197864  \n",
      "26               1.178           57.263711  \n",
      "27               0.833           13.218710  \n",
      "28               0.800           31.815552  \n",
      "29               0.989           24.553230  \n",
      "..                 ...                 ...  \n",
      "127              0.647            2.929280  \n",
      "128              0.105            1.533462  \n",
      "129              0.789           38.411708  \n",
      "130              0.253            3.780022  \n",
      "131              0.585           11.585059  \n",
      "132              0.869           29.175702  \n",
      "133              0.391           18.398957  \n",
      "134              0.293           14.508797  \n",
      "135              0.215            3.244694  \n",
      "136              0.920           37.849315  \n",
      "137              0.905           39.369600  \n",
      "138              0.809           19.714748  \n",
      "139              0.862            5.813535  \n",
      "140              0.266           14.749477  \n",
      "141              0.661            9.070004  \n",
      "142              0.789           27.888278  \n",
      "143              0.242            6.951469  \n",
      "144              0.726           31.590264  \n",
      "145              0.521           17.549406  \n",
      "146              0.383            6.881453  \n",
      "147              0.488           12.979082  \n",
      "148              0.275           15.969140  \n",
      "149              0.022            1.174813  \n",
      "150              0.524           16.660287  \n",
      "151              0.447           12.296702  \n",
      "152              0.206            2.831915  \n",
      "153              0.974           14.011146  \n",
      "154              0.232           11.308422  \n",
      "155              0.889           24.363045  \n",
      "156              0.000            0.000000  \n",
      "\n",
      "[157 rows x 6 columns]\n"
     ]
    }
   ],
   "source": [
    "C = 1.16\n",
    "energyConsumption= [0] * 157\n",
    "waterConsumption = imputedData2_reset['water_consumption'].values\n",
    "supplyTemp = imputedData2_reset['supplytemp'].values\n",
    "returnTemp = imputedData2_reset['returntemp'].values\n",
    "for i in range(0, 156):\n",
    "    energyConsumption[i] = waterConsumption[i] * (supplyTemp[i] - returnTemp[i]) * C\n",
    "imputedData2_reset['energy_consumption'] = pd.DataFrame(energyConsumption)\n",
    "print(imputedData2_reset)"
   ]
  },
  {
   "cell_type": "markdown",
   "metadata": {},
   "source": [
    "#### Section 1.6: Saving final dataframe in csv format in the same folder as input data\n",
    "\n"
   ]
  },
  {
   "cell_type": "code",
   "execution_count": 17,
   "metadata": {},
   "outputs": [],
   "source": [
    "import os\n",
    "path = os.path.dirname(inputFile)\n",
    "imputedData2_reset.to_csv(path+'/output.csv')"
   ]
  },
  {
   "cell_type": "markdown",
   "metadata": {},
   "source": [
    "### Chapter 2: Discussion Task"
   ]
  },
  {
   "cell_type": "code",
   "execution_count": 18,
   "metadata": {},
   "outputs": [
    {
     "data": {
      "image/png": "[encoded data removed]",
      "text/plain": [
       "<Figure size 576x432 with 1 Axes>"
      ]
     },
     "metadata": {
      "needs_background": "light"
     },
     "output_type": "display_data"
    }
   ],
   "source": [
    "# Task 2\n",
    "import matplotlib.pyplot as plt\n",
    "fig = plt.figure(figsize=(8, 6))\n",
    "fig = plt.plot(imputedData2_reset['datetime'], imputedData2_reset['energy_consumption'])\n",
    "plt.xticks([])\n",
    "plt.xlabel('datetime')\n",
    "plt.ylabel('energy_consumption')\n",
    "plt.savefig(path+'/timeseries_plot.png')\n",
    "plt.show()"
   ]
  }
 ],
 "metadata": {
  "kernelspec": {
   "display_name": "Python 3",
   "language": "python",
   "name": "python3"
  },
  "language_info": {
   "codemirror_mode": {
    "name": "ipython",
    "version": 3
   },
   "file_extension": ".py",
   "mimetype": "text/x-python",
   "name": "python",
   "nbconvert_exporter": "python",
   "pygments_lexer": "ipython3",
   "version": "3.7.0"
  }
 },
 "nbformat": 4,
 "nbformat_minor": 2
}
